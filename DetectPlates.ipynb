{
 "cells": [
  {
   "cell_type": "code",
   "execution_count": 1,
   "metadata": {},
   "outputs": [],
   "source": [
    "import cv2\n",
    "import numpy as np\n",
    "import matplotlib.pyplot as plt"
   ]
  },
  {
   "cell_type": "code",
   "execution_count": 2,
   "metadata": {},
   "outputs": [],
   "source": [
    "net = cv2.dnn.readNetFromDarknet(\"yolov3_custom.cfg\",r\"yolov3_custom_2000.weights\")"
   ]
  },
  {
   "cell_type": "code",
   "execution_count": 3,
   "metadata": {},
   "outputs": [],
   "source": [
    "def show(img):\n",
    "    print(img.shape)\n",
    "    plt.imshow(img)\n",
    "    plt.show()"
   ]
  },
  {
   "cell_type": "code",
   "execution_count": 4,
   "metadata": {},
   "outputs": [],
   "source": [
    "classes = ['licence']"
   ]
  },
  {
   "cell_type": "code",
   "execution_count": 5,
   "metadata": {},
   "outputs": [],
   "source": [
    "img = cv2.imread('image4.jpg')"
   ]
  },
  {
   "cell_type": "code",
   "execution_count": 7,
   "metadata": {},
   "outputs": [
    {
     "name": "stdout",
     "output_type": "stream",
     "text": [
      "[[282 533 276  68]]\n"
     ]
    }
   ],
   "source": [
    "def locateLP(img):\n",
    "    hight,width,_ = img.shape\n",
    "\n",
    "    blob = cv2.dnn.blobFromImage(img, 1/255,(416,416),(0,0,0),swapRB = True,crop= False)\n",
    "    net.setInput(blob)\n",
    "    output_layers_name = net.getUnconnectedOutLayersNames()\n",
    "\n",
    "    layerOutputs = net.forward(output_layers_name)\n",
    "\n",
    "\n",
    "    boxes =[]\n",
    "    confidences = []\n",
    "    class_ids = []\n",
    "\n",
    "    for output in layerOutputs:\n",
    "        for detection in output:\n",
    "            score = detection[5:]\n",
    "            class_id = np.argmax(score)\n",
    "            confidence = score[class_id]\n",
    "            if confidence > 0.5:\n",
    "                #print(confidence)\n",
    "                center_x = int(detection[0] * width)\n",
    "                center_y = int(detection[1] * hight)\n",
    "                w = int(detection[2] * width)\n",
    "                h = int(detection[3]* hight)\n",
    "                x = int(center_x - w/2)\n",
    "                y = int(center_y - h/2)\n",
    "                boxes.append([x,y,w,h])\n",
    "                confidences.append((float(confidence)))\n",
    "                class_ids.append(class_id)\n",
    "    indexes = cv2.dnn.NMSBoxes(boxes,confidences,.8,.4)\n",
    "    #print(indexes)\n",
    "    ans = []\n",
    "    detectedimg = img.copy()\n",
    "    #font = cv2.FONT_HERSHEY_PLAIN\n",
    "    if  len(indexes)>0:\n",
    "        for i in indexes.flatten():\n",
    "            #x,y,w,h = boxes[i]\n",
    "            ans.append(boxes[i])\n",
    "            #label = str(classes[class_ids[i]])\n",
    "            #confidence = str(round(confidences[i],2))\n",
    "            #color = (255,255,255)\n",
    "            #cv2.rectangle(detectedimg,(x,y),(x+w,y+h),color,10)\n",
    "            #cv2.putText(detectedimg,label + \" \" + confidence, (x,y+400),font,2,color,2)\n",
    "            #show(detectedimg)\n",
    "    \n",
    "    ans = np.array(ans)\n",
    "    return ans\n",
    "\n",
    "#i = locateLP(img)\n",
    "#print(i)"
   ]
  }
 ],
 "metadata": {
  "kernelspec": {
   "display_name": "Python 3",
   "language": "python",
   "name": "python3"
  },
  "language_info": {
   "codemirror_mode": {
    "name": "ipython",
    "version": 3
   },
   "file_extension": ".py",
   "mimetype": "text/x-python",
   "name": "python",
   "nbconvert_exporter": "python",
   "pygments_lexer": "ipython3",
   "version": "3.8.5"
  }
 },
 "nbformat": 4,
 "nbformat_minor": 4
}
